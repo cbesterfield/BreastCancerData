# import libraries 
from sklearn import datasets
import numpy as np
import pandas as pd 



# import dataset 
cancer = datasets.load_breast_cancer()
cancer

# convert dataset to dataframe 
data = pd.DataFrame(cancer.data, columns = cancer.feature_names)
data["Target"] = cancer.target
data 

data.describe()

# check for null values 
data.isnull().sum()

# check for class proportions 
import seaborn as sns
sns.countplot(x=data['Target'], palette='hls')

# get X and Y values 
X = data.iloc[:, :-1]
Y = data.iloc[:, -1]
Y

# normalize data 
from sklearn import preprocessing
minmax = preprocessing.MinMaxScaler()
X_norm = minmax.fit_transform(X)
X_norm

# Import train_test_split function
from sklearn.model_selection import train_test_split
X_train, X_test, y_train, y_test = train_test_split(X_norm, Y, test_size=0.3,random_state=1, stratify=data['Target'] ) # 70% training and 30% test
X_train

#import SVM and do predictions 
from sklearn import svm

clf = svm.SVC(kernel='linear') # Linear Kernel

clf.fit(X_train, y_train)

y_pred = clf.predict(X_test)

# check accuracy 
from sklearn.metrics import accuracy_score 
accuracy = accuracy_score(y_test, y_pred)
accuracy


# obtain confusion matrix 
from sklearn.metrics import confusion_matrix
confusion_matrix(y_test, y_pred)

# Let's focus on 2 most important hyperparameters:
# 'kernel': defines what kind of seperation we will use as hyperplane
# 'C': the cost of misclassification 
from sklearn.model_selection import GridSearchCV
# Create the parameter grid based on the results of random search 
param_grid = {
    'kernel': ['linear', 'poly'],
    'C': [0.1, 0.5, 1], 
}
# Create a based model
sv = svm.SVC()
# Instantiate the grid search model
grid_search = GridSearchCV(estimator = sv, param_grid = param_grid, 
                          cv = 5)

# Fit the grid search to the data
grid_search.fit(X_train, y_train)
grid_search.best_params_

best_grid_sv = grid_search.best_estimator_
best_grid_sv

accuracy_grid = accuracy_score(y_test, preds_grid_sv)
accuracy_grid

confusion_matrix(y_test, preds_grid_sv)
